{
 "cells": [
  {
   "cell_type": "markdown",
   "metadata": {
    "tags": []
   },
   "source": [
    "# Deep Learning for Business Applications course"
   ]
  },
  {
   "cell_type": "markdown",
   "metadata": {
    "tags": []
   },
   "source": [
    "## TOPIC 11: Word Embeddings (Word2Vec, CBOW, Skip-gram)"
   ]
  },
  {
   "cell_type": "markdown",
   "metadata": {
    "id": "1o35wFeQyYAY"
   },
   "source": [
    "Today we are going to study another approach to make a vector representation of words called word embeddings. This approach allows you to encode words as vectors so that words that are close in meaning are close to each other in the resulting vector space. Embeddings are used everywere in machine learning. Embedding can be associated with almost any object, be it a word, symbol, text, picture, video, graph, etc.\n",
    "\n",
    "You already know about bag-of-words(BOW) which is simple and interpretable approach for making vector representations of texts. But it has a disadvantage.\n",
    "\n",
    "Recall the BOW approach implies that the features of the document is a words, which means that the size of the feature space is equal to the number of unique words in the corpus (this set of words called vocabulary). Thus, a feature space of very high dimension is obtained. Moreover, the feature matrix turns out to be sparse, that is, it contains a lot of zeros, since the documents do not contain most of the words from the vocabulary. A large number of features can lead to decreasing speed of model training and inference as well as decreasing of model quality especially for models based on the calculation of distances between points in feature space. The last problem called the curse of dimensionality.\n",
    "\n",
    "To avoid this problems one need to compress feature space. Neural networks will help us to deal with this."
   ]
  },
  {
   "cell_type": "markdown",
   "metadata": {
    "id": "qckhrDf3-N1k"
   },
   "source": [
    "### 1. One-hot encoding\n",
    "\n",
    "Before learning about neural network architectures one need to understand how to feed the words to them because neural network, like any model, takes vectors as input (or tensor in general).\n",
    "\n",
    "The easiest way to represent words as a vector is one-hot encoding. First, we assign an unique index to each word. It can be done using dictionary with words as keys and indexes as values. This dictionary is called vocabulary and it contains all words in corpus. Then we transform each index to vector with the same lengths as the vocabulary. Each vector component filled by zeros except position corresponding to index: it's equal to one.\n",
    "\n",
    "Let's look at the example. Suppose we have a corpus with two texts:\n",
    "\n",
    "* `The quick brown fox jumps`\n",
    "* `fox jumps quick`\n",
    "\n",
    "Then encoded representation of texts may look like this.\n",
    "\n",
    "First text:\n",
    "<table>\n",
    "  <tr>\n",
    "    <th>Word</th> <th>Index</th> <th>One-hot vector</th>\n",
    "  </tr>\n",
    "  <tr>\n",
    "    <td>The</td> <td>1</td> <td>[1, 0, 0, 0, 0]</td>\n",
    "  </tr>\n",
    "  <tr>\n",
    "    <td>quick</td> <td>2</td> <td>[0, 1, 0, 0, 0]</td>\n",
    "  </tr>\n",
    "  <tr>\n",
    "    <td>brown</td> <td>3</td> <td>[0, 0, 1, 0, 0]</td>\n",
    "  </tr>\n",
    "  <tr>\n",
    "    <td>fox</td> <td>4</td> <td>[0, 0, 0, 1, 0]</td>\n",
    "  </tr>\n",
    "  <tr>\n",
    "    <td>jumps</td> <td>5</td> <td>[0, 0, 0, 0, 1]</td>\n",
    "  </tr>\n",
    "</table>\n",
    "\n",
    "Second text:\n",
    "<table>\n",
    "  <tr>\n",
    "    <th>Word</th> <th>Index</th> <th>One-hot vector</th>\n",
    "  </tr>\n",
    "  <tr>\n",
    "    <td>fox</td> <td>4</td> <td>[0, 0, 0, 1, 0]</td>\n",
    "  </tr>\n",
    "  <tr>\n",
    "    <td>jumps</td> <td>5</td> <td>[0, 0, 0, 0, 1]</td>\n",
    "  </tr>\n",
    "  <tr>\n",
    "    <td>quick</td> <td>2</td> <td>[0, 1, 0, 0, 0]</td>\n",
    "  </tr>\n",
    "</table>\n",
    "\n",
    "Each component of one hot vector is a value of feature.\n"
   ]
  },
  {
   "cell_type": "markdown",
   "metadata": {
    "id": "Rm4oVVFt__ch"
   },
   "source": [
    "### 2. Embedding layer\n",
    "\n",
    "Embedding layer is just a regular linear layer with some modifications and optimizations made to simplify our life and speed up learning and inference.\n",
    "\n",
    "The first modification is that the layer takes as input not one-hot vectors, but indexes of words from the dictionary. It transforms indices to vectors by itself and allows us not to bother with one-hot encoding.\n",
    "\n",
    "Since this is a linear layer, its weights are a matrix. The one-hot vector is multiplied by this matrix to get the embedding vector. If vocabulary size is equal to $v$ then dimension of the one-hot vector will be $1 \\times v$. If we want to transform the one-hot vector to the embedding vector with dimension $u$ then the matrix should have dimension $v \\times u$.\n",
    "\n",
    "Let's see how this layer works with an example of word `fox`.\n",
    "\n",
    "Suppose we have an embedding layer with a following matrix:\n",
    "\n",
    "$$\n",
    "    \\begin{pmatrix}\n",
    "        0.1 & 0.2 & -0.3 \\\\\n",
    "        0.4 &- 0.5 & 0.6 \\\\\n",
    "        -0.7 & 0.8 & 0.9 \\\\\n",
    "        0.3 & 0.2 & -0.1 \\\\\n",
    "        0.6 & -0.5 & 0.4\n",
    "    \\end{pmatrix}\n",
    "$$\n",
    "\n",
    "First of all, embedding layer will map index of word `fox` to one-hot vector $4 ⟶ \\begin{pmatrix}0 & 0 & 0 & 1 & 0\\end{pmatrix}$.\n",
    "\n",
    "Then one-hot vector will be multiplied by embedding matrix:\n",
    "\n",
    "$$\n",
    "    \\begin{pmatrix}\n",
    "        0 & 0 & 0 & 1 & 0\n",
    "    \\end{pmatrix}\n",
    "    \\times\n",
    "    \\begin{pmatrix}\n",
    "        0.1 & 0.2 & -0.3 \\\\\n",
    "        0.4 &- 0.5 & 0.6 \\\\\n",
    "        -0.7 & 0.8 & 0.9 \\\\\n",
    "        0.3 & 0.2 & -0.1 \\\\\n",
    "        0.6 & -0.5 & 0.4\n",
    "    \\end{pmatrix}\n",
    "    =\n",
    "    \\begin{pmatrix}\n",
    "        0.3 & 0.2 & -0.1\n",
    "    \\end{pmatrix}\n",
    "$$\n",
    "\n",
    "As you can see we took vector of dimension $1 \\times 5$ multiplied by matrix with dimension $5 \\times 3$ and got vector $1 \\times 3$. Thus, we have reduced the dimension of the feature space.\n",
    "\n",
    "Note that the embedding is exactly the 4th row of the embedding matrix, so there is no need to implement the matrix multiplication rule on forward step. It is enough to select a row from the embedding matrix that corresponds to the index of the word in the vocabulary. The same goes for the backward step: the weights are only updated in the row that matches the word's index.\n",
    "\n",
    "Thus, at the training stage we need to find the weights of the embedding matrix and at the inference pull out the row corresponding to the word's index from the matrix."
   ]
  },
  {
   "cell_type": "markdown",
   "metadata": {
    "id": "eSgxpnbGwoO8"
   },
   "source": [
    "### 3. Word2vec\n",
    "\n",
    "Word2vec is a common technique for making vector representations of words in text using neural networks. There are two architectures implementing this technique: continuous bag-of-words (CBOW) and continuous skip-gram.\n",
    "\n",
    "Suppose we have a text consisting of a sequence of words $w_{1},w_{2},...,w_{t},... w_{n}$. The context of a word $w_{t}$ is a sequence of words $w_{t-l},...,w_{t-2},w_{t-1},w_{t+1},w_{t+2},...,w_{t+l}$, where $l$ is called window. Thus, the context is the words that are at a distance of no more than $l$ to the left and to the right of the current word.\n",
    "\n",
    "For word `fox` in sentence `The quick brown fox jumps over the lazy dog.` context with `window=2` will be `quick, brown, jumps, over`.\n",
    "\n",
    "### 4. CBOW\n",
    "\n",
    "The idea of CBOW is to predict word by its context. This can be shown in the following picture."
   ]
  },
  {
   "cell_type": "markdown",
   "metadata": {
    "id": "VDFKefPUieBn"
   },
   "source": [
    "![image.png](data:image/png;base64,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)"
   ]
  },
  {
   "cell_type": "markdown",
   "metadata": {
    "id": "ZYytLn8biqYW"
   },
   "source": [
    "Network takes indexes of context as input, transforms them to the embeddings, sums them up element wise and transform the result to the target word using linear layer. On the training stage we compare output logits with the one-hot vector or index of the target word calculating cross entropy loss.\n",
    "\n",
    "$$L(θ) = -\\sum_{i=1}^{m} \\sum_{k=1}^{K}{y_{ik} log(p_{ik}(x, θ))}$$\n",
    "\n",
    "where $m$ is count of pairs <context, word> in the dataset/batch, $K$ - number of classes(vocabulary size), $y_{ik}$ - values in one-hot representation of target words, $x$ - context indices, $θ$ - model weights, $p_{ik}(x, θ)$ - output probabilities of each word from network.\n",
    "\n",
    "This is how training and inference will look like using the example of predicting the word \"quick\" with a `window = 1`.\n"
   ]
  },
  {
   "cell_type": "markdown",
   "metadata": {
    "id": "qDJDjr2Ji745"
   },
   "source": [
    "![image.png](data:image/png;base64,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)"
   ]
  },
  {
   "cell_type": "markdown",
   "metadata": {
    "id": "wOQj0P7DjH_B"
   },
   "source": [
    "In this work we will implement CBOW from scratch.\n",
    "\n",
    "### 5. Skip-gram\n",
    "\n",
    "The idea of Skip-gram is opposite to CBOW. It predicts context by word. This can be shown in the following picture."
   ]
  },
  {
   "cell_type": "markdown",
   "metadata": {
    "id": "l0hUW2Q7jYNs"
   },
   "source": [
    "![image.png](data:image/png;base64,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)"
   ]
  },
  {
   "cell_type": "markdown",
   "metadata": {
    "id": "osnDlzo-jdLq"
   },
   "source": [
    "This architecture a little bit simplier. To train the network one need to feed word $w_{t}$ to embedding and linear layer and predict word $w_{t-l}$. Then one need too feed word $w_{t}$ to network again but predict word $w_{t-l+1}$ and so on. Basically we just repeat input word for each surrounding word at the dataset creation stage and then we solve usual multiclass classification task.\n",
    "\n",
    "You can read more about this architectures in <a href=\"https://arxiv.org/pdf/1301.3781.pdf\">original paper</a>."
   ]
  },
  {
   "cell_type": "markdown",
   "metadata": {
    "id": "NcOnnnUtNz9r"
   },
   "source": [
    "### 6. Data\n",
    "#### 6.1. Data preparation\n",
    "\n",
    "In this work we will be using data from standart sklearn dataset `20newsgroups`. The dataset contains corpus where each text belongs to one of 20 newsgroups. Texts are just a messages from users.\n",
    "\n",
    "Let's save the data in two variables:\n",
    "\n",
    "* `corpus` is a list of texts\n",
    "* `target` is a name of group:\n",
    "    * rec - texts about sport, auto etc.\n",
    "    * comp - texts about computers.\n",
    "    * sci - texts about science.\n",
    "    * soc - texts about religion.\n",
    "    * talk - texts about politics.\n",
    "    * misc - miscelaneous.\n",
    "    * alt - texts about atheism."
   ]
  },
  {
   "cell_type": "code",
   "execution_count": null,
   "metadata": {
    "colab": {
     "base_uri": "https://localhost:8080/"
    },
    "executionInfo": {
     "elapsed": 21869,
     "status": "ok",
     "timestamp": 1729721459419,
     "user": {
      "displayName": "Andrei Kotseruba",
      "userId": "01711491631127368765"
     },
     "user_tz": -180
    },
    "id": "SACc-6mjbtwa",
    "outputId": "b7c67930-7824-413e-d4ef-a753f605053c"
   },
   "outputs": [],
   "source": [
    "from sklearn.datasets import fetch_20newsgroups\n",
    "\n",
    "news = fetch_20newsgroups()\n",
    "\n",
    "corpus = news['data']\n",
    "target = [news.target_names[i].split('.')[0] for i in news.target]\n",
    "\n",
    "print('Corpus size:', len(corpus))\n",
    "print()\n",
    "print('Text example:', corpus[4])"
   ]
  },
  {
   "cell_type": "code",
   "execution_count": null,
   "metadata": {
    "colab": {
     "base_uri": "https://localhost:8080/"
    },
    "executionInfo": {
     "elapsed": 2,
     "status": "ok",
     "timestamp": 1729721459419,
     "user": {
      "displayName": "Andrei Kotseruba",
      "userId": "01711491631127368765"
     },
     "user_tz": -180
    },
    "id": "YyhIja6bcLoe",
    "outputId": "3a5700e2-bbe5-458c-fa92-26ef25847ab9"
   },
   "outputs": [],
   "source": [
    "print('Target values:', set(target))"
   ]
  },
  {
   "cell_type": "markdown",
   "metadata": {
    "id": "JQXgLnuflWMi"
   },
   "source": [
    "We see that text contains trash symbols like this `>>>`, e-mails, maybe links etc. First of all we need to clean it."
   ]
  },
  {
   "cell_type": "markdown",
   "metadata": {
    "id": "e5h5HYn_ymg3"
   },
   "source": [
    "#### 6.2. Data preprocessing"
   ]
  },
  {
   "cell_type": "code",
   "execution_count": null,
   "metadata": {
    "scrolled": true
   },
   "outputs": [],
   "source": [
    "!pip install spacy\n",
    "!python -m spacy download en_core_web_sm"
   ]
  },
  {
   "cell_type": "code",
   "execution_count": null,
   "metadata": {
    "executionInfo": {
     "elapsed": 6895,
     "status": "ok",
     "timestamp": 1729721466312,
     "user": {
      "displayName": "Andrei Kotseruba",
      "userId": "01711491631127368765"
     },
     "user_tz": -180
    },
    "id": "z3FzZZGuB6BD"
   },
   "outputs": [],
   "source": [
    "# import some useful libraries\n",
    "import numpy as np\n",
    "import pandas as pd\n",
    "import spacy\n",
    "import re\n",
    "import plotly.express as px\n",
    "\n",
    "from tqdm.notebook import tqdm\n",
    "tqdm.pandas()"
   ]
  },
  {
   "cell_type": "markdown",
   "metadata": {
    "id": "XxwFWDqNl5P8"
   },
   "source": [
    "This time will use library spacy for cleaning and lemmatization."
   ]
  },
  {
   "cell_type": "code",
   "execution_count": null,
   "metadata": {
    "colab": {
     "base_uri": "https://localhost:8080/",
     "height": 49,
     "referenced_widgets": [
      "8c3ad92a2c844bf185898fbf857064a4",
      "a52a993f50fa4cfc9fd77877e0351da5",
      "bc9962a30096460d9a026a7b789747cb",
      "54fe936651324124a7ef0aa0541b4e66",
      "5b386d7976c444e193c6e6c8a4141c2a",
      "35f5f871aef44e1fb5ef3f432a8e3d6a",
      "55b687954ea9440286438d4dd76f2315",
      "d2c3cd5229434f21bb3084f7a190cb0a",
      "b767b3e55b22437babc3895d18bf9315",
      "1b98b1b5ccf84b7a8799541035522bee",
      "13b3ed4a1f184a58b7d9d0a6664743e7"
     ]
    },
    "executionInfo": {
     "elapsed": 366370,
     "status": "ok",
     "timestamp": 1729721832680,
     "user": {
      "displayName": "Andrei Kotseruba",
      "userId": "01711491631127368765"
     },
     "user_tz": -180
    },
    "id": "yJtF4gj83BdW",
    "outputId": "df39b495-ebcd-403a-bc8e-95dbecb59c67"
   },
   "outputs": [],
   "source": [
    "# We will remove every symbol except english letters, spaces and apostrophes.\n",
    "cleaner = re.compile('[^A-Za-z \\']')\n",
    "\n",
    "# Load spacy model for english.\n",
    "nlp = spacy.load('en_core_web_sm')\n",
    "\n",
    "# Create pipe object over our courpus and disable unnecessary steps \n",
    "# like `ner`(named entity recognition)\n",
    "\n",
    "pipe = nlp.pipe(corpus, disable=['parser', 'ner'])\n",
    "\n",
    "# Pipe is a generator of documents, each of which contains tokens. \n",
    "# Token is a word with a useful attributes and methods.\n",
    "# For example, attribute `lemma_` contains normal form of word.\n",
    "# Full list of attributes: https://spacy.io/api/token#attributes\n",
    "\n",
    "docs = []  # list containing tokenized documents\n",
    "\n",
    "for doc in tqdm(pipe, total=len(corpus)):\n",
    "    lemmas = []\n",
    "\n",
    "    for token in doc:\n",
    "        if not (\n",
    "            token.is_punct or\n",
    "            token.is_space or\n",
    "            token.is_stop or\n",
    "            token.like_email or\n",
    "            token.like_num or\n",
    "            token.like_url\n",
    "        ):\n",
    "            lemma = token.lemma_\n",
    "            lemma = cleaner.sub('', lemma)\n",
    "            if len(lemma) > 1:\n",
    "                lemma = lemma.lower()\n",
    "                lemmas.append(lemma)\n",
    "\n",
    "    docs.append(lemmas)"
   ]
  },
  {
   "cell_type": "code",
   "execution_count": null,
   "metadata": {
    "colab": {
     "base_uri": "https://localhost:8080/"
    },
    "executionInfo": {
     "elapsed": 6,
     "status": "ok",
     "timestamp": 1729721832680,
     "user": {
      "displayName": "Andrei Kotseruba",
      "userId": "01711491631127368765"
     },
     "user_tz": -180
    },
    "id": "SwOz1pLqtn4B",
    "outputId": "81044b63-122d-4be0-9c70-1c6c0d830f41"
   },
   "outputs": [],
   "source": [
    "print('First 10 words from previous text example:', docs[4][:10])"
   ]
  },
  {
   "cell_type": "markdown",
   "metadata": {
    "id": "emqD8fWHSAHH"
   },
   "source": [
    "### 7. CBOW implementation from scratch\n",
    "\n",
    "Let's try to implement CBOW using pytorch library."
   ]
  },
  {
   "cell_type": "code",
   "execution_count": null,
   "metadata": {
    "executionInfo": {
     "elapsed": 3,
     "status": "ok",
     "timestamp": 1729721832680,
     "user": {
      "displayName": "Andrei Kotseruba",
      "userId": "01711491631127368765"
     },
     "user_tz": -180
    },
    "id": "Iqr-qYP3P28A"
   },
   "outputs": [],
   "source": [
    "# import neccesary packages\n",
    "import torch\n",
    "import torch.nn as nn  # layers\n",
    "import torch.nn.functional as F  # functions like cross entropy\n",
    "from torch.optim import AdamW  # Optimizer\n",
    "from torch.utils.data import TensorDataset, DataLoader, RandomSampler  # data generation\n",
    "from collections import Counter"
   ]
  },
  {
   "cell_type": "code",
   "execution_count": null,
   "metadata": {
    "executionInfo": {
     "elapsed": 3,
     "status": "ok",
     "timestamp": 1729721832680,
     "user": {
      "displayName": "Andrei Kotseruba",
      "userId": "01711491631127368765"
     },
     "user_tz": -180
    },
    "id": "QP01HBCGtiQm"
   },
   "outputs": [],
   "source": [
    "# make torch deterministic\n",
    "SEED = 2025\n",
    "\n",
    "torch.manual_seed(SEED)\n",
    "torch.cuda.manual_seed(SEED)\n",
    "torch.backends.cudnn.deterministic = True"
   ]
  },
  {
   "cell_type": "markdown",
   "metadata": {
    "id": "DFzOOEdqxjQI"
   },
   "source": [
    "First thing you should do is to create vocabulary from corpus.\n",
    "\n",
    "1. Count how many times each word occurs in the corpus. You can use `Counter` for this purpose.\n",
    "2. Remove words that occurs less than `min_count`.\n",
    "3. Create `vocab_id` - dictionary with words as keys and their indices as values. Add special word `'PAD'` with index `0`.\n",
    "\n",
    "What is `'PAD'`? Each text contains a different number of words, i.e. index sequences will have different lengths. But pytorch works with tensors and the dimensions of a tensor are fixed length. Thus, if the length of the sequence is less than the dimension of the tensor, then it is necessary to complement it to the dimension."
   ]
  },
  {
   "cell_type": "code",
   "execution_count": null,
   "metadata": {
    "executionInfo": {
     "elapsed": 706,
     "status": "ok",
     "timestamp": 1729721833383,
     "user": {
      "displayName": "Andrei Kotseruba",
      "userId": "01711491631127368765"
     },
     "user_tz": -180
    },
    "id": "GD1eDPG1ybK-"
   },
   "outputs": [],
   "source": [
    "min_count = 5\n",
    "\n",
    "word_counter = Counter([word for doc in docs for word in doc])\n",
    "vocab = ['PAD'] + [k for k, v in word_counter.items() if v >= min_count]\n",
    "vocab_id = {word: id for id, word in enumerate(vocab)}"
   ]
  },
  {
   "cell_type": "markdown",
   "metadata": {
    "id": "oYcujVaH7rJ_"
   },
   "source": [
    "Form a corpus of indexes by matching each word with its index from the dictionary"
   ]
  },
  {
   "cell_type": "code",
   "execution_count": null,
   "metadata": {
    "executionInfo": {
     "elapsed": 3,
     "status": "ok",
     "timestamp": 1729721833383,
     "user": {
      "displayName": "Andrei Kotseruba",
      "userId": "01711491631127368765"
     },
     "user_tz": -180
    },
    "id": "81cRdZGN8e2n"
   },
   "outputs": [],
   "source": [
    "docs_id = [[vocab_id[word] for word in doc if word in vocab_id] for doc in docs]"
   ]
  },
  {
   "cell_type": "code",
   "execution_count": null,
   "metadata": {
    "colab": {
     "base_uri": "https://localhost:8080/"
    },
    "executionInfo": {
     "elapsed": 2,
     "status": "ok",
     "timestamp": 1729721833383,
     "user": {
      "displayName": "Andrei Kotseruba",
      "userId": "01711491631127368765"
     },
     "user_tz": -180
    },
    "id": "1J4191x2-Wf3",
    "outputId": "00b76e88-178a-4518-8df7-44c99905fe31"
   },
   "outputs": [],
   "source": [
    "# Check documents\n",
    "\n",
    "for i in (0, 1):\n",
    "    print(docs_id[i])"
   ]
  },
  {
   "cell_type": "markdown",
   "metadata": {
    "id": "9-SvNICoEP7E"
   },
   "source": [
    "Now one can create a dataset from words and their corresponding contexts.\n",
    "Implement a fuction `make_contexts` below. It takes two parameters:\n",
    "\n",
    "* `docs_id` - corpus of identifiers from previous step.\n",
    "* `window` - context length.\n",
    "\n",
    "If the window does not cover the required number of indices, then you need to add padding indexes to the sequence.\n",
    "\n",
    "Example.\n",
    "\n",
    "Input:\n",
    "```\n",
    "docs_id = [\n",
    "    [1, 2, 3, 4, 5, 6, 7, 8],\n",
    "    [44, 1, 2, 46, 47]\n",
    "]\n",
    "window = 3\n",
    "```\n",
    "\n",
    "Output:\n",
    "\n",
    "```\n",
    "contexts = [\n",
    "    [0, 0, 0, 2, 3, 4],\n",
    "    [0, 0, 1, 3, 4, 5],\n",
    "    [0, 1, 2, 4, 5, 6],\n",
    "    [1, 2, 3, 5, 6, 7],\n",
    "    [2, 3, 4, 6, 7, 8],\n",
    "    [3, 4, 5, 7, 8, 0],\n",
    "    [4, 5, 6, 8, 0, 0],\n",
    "    [5, 6, 7, 0, 0, 0],\n",
    "    [0, 0, 0, 1, 2, 46],\n",
    "    [0, 0, 44, 2, 46, 47],\n",
    "    [0, 44, 1, 46, 47, 0],\n",
    "    [44, 1, 2, 47, 0, 0],\n",
    "    [1, 2, 46, 0, 0, 0]\n",
    "]\n",
    "words = [1, 2, 3, 4, 5, 6, 7, 8, 44, 1, 2, 46, 47])\n",
    "```\n"
   ]
  },
  {
   "cell_type": "code",
   "execution_count": null,
   "metadata": {
    "executionInfo": {
     "elapsed": 2,
     "status": "ok",
     "timestamp": 1729721833383,
     "user": {
      "displayName": "Andrei Kotseruba",
      "userId": "01711491631127368765"
     },
     "user_tz": -180
    },
    "id": "ryxzWgE720UZ"
   },
   "outputs": [],
   "source": [
    "def make_contexts(docs_id, window=5):\n",
    "\n",
    "    contexts = []  # save contexts here\n",
    "    words = []  # save corresponding words here\n",
    "\n",
    "    for doc_id in docs_id:  # iterate over each document with ids\n",
    "\n",
    "        if len(doc_id) >= window:  # skip docs shorter than window\n",
    "\n",
    "            for i in range(len(doc_id)):  # iterate over each word id\n",
    "\n",
    "                context_left = doc_id[max(i - window, 0) : i]\n",
    "                context_right = doc_id[i + 1 : i + window + 1]\n",
    "\n",
    "                if len(context_left) < window:\n",
    "                    context_left = [0] * (window - len(context_left)) + context_left\n",
    "\n",
    "                if len(context_right) < window:\n",
    "                    context_right = context_right + [0] * (window - len(context_right))\n",
    "\n",
    "                contexts.append(context_left + context_right)\n",
    "                words.append(doc_id[i])\n",
    "\n",
    "    return contexts, words"
   ]
  },
  {
   "cell_type": "code",
   "execution_count": null,
   "metadata": {
    "executionInfo": {
     "elapsed": 4077,
     "status": "ok",
     "timestamp": 1729721837458,
     "user": {
      "displayName": "Andrei Kotseruba",
      "userId": "01711491631127368765"
     },
     "user_tz": -180
    },
    "id": "vZcDCKbjFtRP"
   },
   "outputs": [],
   "source": [
    "contexts, words = make_contexts(docs_id)"
   ]
  },
  {
   "cell_type": "code",
   "execution_count": null,
   "metadata": {
    "colab": {
     "base_uri": "https://localhost:8080/"
    },
    "executionInfo": {
     "elapsed": 2,
     "status": "ok",
     "timestamp": 1729721837459,
     "user": {
      "displayName": "Andrei Kotseruba",
      "userId": "01711491631127368765"
     },
     "user_tz": -180
    },
    "id": "RYYTNzmJ2ktl",
    "outputId": "5a9e6237-4fa9-4230-dbc2-8df0f1c5fbad"
   },
   "outputs": [],
   "source": [
    "print(contexts[0], words[0])\n",
    "print(contexts[7], words[7])\n",
    "print(contexts[1984], words[1984])"
   ]
  },
  {
   "cell_type": "code",
   "execution_count": null,
   "metadata": {
    "colab": {
     "base_uri": "https://localhost:8080/"
    },
    "executionInfo": {
     "elapsed": 1185,
     "status": "ok",
     "timestamp": 1729721842998,
     "user": {
      "displayName": "Andrei Kotseruba",
      "userId": "01711491631127368765"
     },
     "user_tz": -180
    },
    "id": "ajvolK_Iu1lg",
    "outputId": "a7b68ea5-5ff6-4921-f6c5-6e5cf912c6fb"
   },
   "outputs": [],
   "source": [
    "# At the training stage, we will feed several sequences as input, in other words, batch.\n",
    "batch_size = 4096  # `16384` for GPU\n",
    "\n",
    "# As we know pytorch works with tensors, so we should transform lists of indices to tensors.\n",
    "X = torch.tensor(contexts)\n",
    "y = torch.tensor(words)\n",
    "\n",
    "# We have to take care of batch generation.\n",
    "# One need to create a dataset from our tensors. Use the prebuilt TensorDataset class\n",
    "# In some cases its better to create your own implementation of dataset.\n",
    "\n",
    "dataset = TensorDataset(X, y)\n",
    "\n",
    "# Create a dataloader from your `dataset` and set `batch_size`. Use RandomSampler for sampling strategy.\n",
    "dataloader = DataLoader(dataset, batch_size=batch_size, sampler=RandomSampler(dataset))\n",
    "\n",
    "print(X.shape, y.shape)"
   ]
  },
  {
   "cell_type": "code",
   "execution_count": null,
   "metadata": {
    "colab": {
     "base_uri": "https://localhost:8080/"
    },
    "executionInfo": {
     "elapsed": 3,
     "status": "ok",
     "timestamp": 1729721842998,
     "user": {
      "displayName": "Andrei Kotseruba",
      "userId": "01711491631127368765"
     },
     "user_tz": -180
    },
    "id": "IxmAI2Qxu5g6",
    "outputId": "2b444ef1-5214-4743-9d0e-f45be961e129"
   },
   "outputs": [],
   "source": [
    "# Look at what dataset does\n",
    "dataset[1]"
   ]
  },
  {
   "cell_type": "code",
   "execution_count": null,
   "metadata": {
    "colab": {
     "base_uri": "https://localhost:8080/"
    },
    "executionInfo": {
     "elapsed": 2,
     "status": "ok",
     "timestamp": 1729721842998,
     "user": {
      "displayName": "Andrei Kotseruba",
      "userId": "01711491631127368765"
     },
     "user_tz": -180
    },
    "id": "DqnAu3l5vAZM",
    "outputId": "4347a169-2e4d-4f5d-dffb-52877f142083"
   },
   "outputs": [],
   "source": [
    "# Look at the generated batch\n",
    "for X_batch, y_batch in dataloader:\n",
    "    print('X shape: ', X_batch.shape)\n",
    "    print('y shape: ', y_batch.shape)\n",
    "    print('X_batch: ', X_batch)\n",
    "    print('y_batch: ', y_batch)\n",
    "    break"
   ]
  },
  {
   "cell_type": "markdown",
   "metadata": {
    "id": "uLGnMtE9iYea"
   },
   "source": [
    "It's time to define architecture of the neural network according to CBOW picture.\n",
    "\n",
    "You need `nn.Embedding(...)`, and `nn.Linear(...)` layers and aggregate functions like `torch.sum(...)` or `torch.mean(...)`"
   ]
  },
  {
   "cell_type": "code",
   "execution_count": null,
   "metadata": {
    "executionInfo": {
     "elapsed": 1,
     "status": "ok",
     "timestamp": 1729721842998,
     "user": {
      "displayName": "Andrei Kotseruba",
      "userId": "01711491631127368765"
     },
     "user_tz": -180
    },
    "id": "tVlcAWyRQCEe"
   },
   "outputs": [],
   "source": [
    "class CBOW(nn.Module):  # All models should inherit this base class\n",
    "\n",
    "    def __init__(self, vocab_size, embedding_size=64):\n",
    "        '''\n",
    "        This method should contain all layers and parameters of the model.\n",
    "\n",
    "        :vocab_size - len of our vocab\n",
    "        :embedding_size - size of the embedding vector\n",
    "        '''\n",
    "\n",
    "        super().__init__()  # call base class constructor\n",
    "\n",
    "        self.vocab_size = vocab_size\n",
    "        self.embedding_size = embedding_size\n",
    "\n",
    "        # Create layers\n",
    "        self.embedding = nn.Embedding(num_embeddings=vocab_size, embedding_dim=embedding_size)\n",
    "\n",
    "        self.linear = nn.Linear(in_features=embedding_size, out_features=vocab_size)\n",
    "\n",
    "    def forward(self, x):\n",
    "        '''\n",
    "        This method should implement forward pass. Backward pass is automatic,\n",
    "        thanks to automatic differentiation.\n",
    "\n",
    "        :x - input tensor with containing sequences of indicies.\n",
    "\n",
    "        Recall you will use the batch optimization. That is, several contexts\n",
    "        will be fed to the network input at once. Therefore, the dimension of\n",
    "        the input tensor will be equal to (batch_size, window * 2).\n",
    "\n",
    "        Remember that the embedding layer changes the dimension of\n",
    "        the input tensor. If the input dimension was (batch_size, window * 2)\n",
    "        then the output tensor will have the dimension\n",
    "        (batch_size, window * 2, embedding_size).\n",
    "        '''\n",
    "\n",
    "        x = self.embedding(x)\n",
    "        x = torch.mean(x, axis=1)\n",
    "        out = self.linear(x)\n",
    "\n",
    "        return out"
   ]
  },
  {
   "cell_type": "markdown",
   "metadata": {
    "id": "0Ka6ZMGiJ3h3"
   },
   "source": [
    "It would be interesting to visualize texts at 3D scatter plot. So let's create CBOW model with embedding size equal 3."
   ]
  },
  {
   "cell_type": "code",
   "execution_count": null,
   "metadata": {
    "executionInfo": {
     "elapsed": 3378,
     "status": "ok",
     "timestamp": 1729721846375,
     "user": {
      "displayName": "Andrei Kotseruba",
      "userId": "01711491631127368765"
     },
     "user_tz": -180
    },
    "id": "8Zt3f_i2Jlrn"
   },
   "outputs": [],
   "source": [
    "# Set number of epochs.\n",
    "epochs = 10\n",
    "\n",
    "# Create model\n",
    "model = CBOW(len(vocab), embedding_size=3)\n",
    "\n",
    "# Create optimizer\n",
    "optimizer = AdamW(model.parameters(), lr=0.001)\n",
    "\n",
    "# Choose device\n",
    "device = 'cuda' if torch.cuda.is_available() else 'cpu'"
   ]
  },
  {
   "cell_type": "code",
   "execution_count": null,
   "metadata": {
    "executionInfo": {
     "elapsed": 3,
     "status": "ok",
     "timestamp": 1729721846375,
     "user": {
      "displayName": "Andrei Kotseruba",
      "userId": "01711491631127368765"
     },
     "user_tz": -180
    },
    "id": "G1uLGlTki4gV"
   },
   "outputs": [],
   "source": [
    "import matplotlib.pyplot as plt\n",
    "\n",
    "\n",
    "def draw_learning_curve_colab(losses, range_x=None):\n",
    "\n",
    "    from google.colab import output\n",
    "    \n",
    "    output.clear(True)\n",
    "    fig = px.line(title='Learning curve', range_x=range_x, template='plotly_dark')\n",
    "    fig.add_scatter()\n",
    "    fig['data'][0]['x'] = list(range(len(losses)))\n",
    "    fig['data'][0]['y'] = losses\n",
    "    fig.update_layout(yaxis={'title': 'Loss'}, xaxis={'title': 'Training step'}, title={'x': 0.5})\n",
    "    fig.show(renderer=\"colab\")\n",
    "\n",
    "\n",
    "def draw_learning_curve(losses, range_x=None):\n",
    "    \"\"\"\n",
    "    Function to draw learning curve.\n",
    "    \n",
    "    \"\"\"\n",
    "    from IPython.display import clear_output\n",
    "    clear_output(wait=True)\n",
    "    \n",
    "    plt.figure(figsize=(10, 6))\n",
    "    plt.plot(losses, linewidth=2)\n",
    "    plt.title('Learning Curve', fontsize=14, pad=20)\n",
    "    plt.xlabel('Training Step', fontsize=12)\n",
    "    plt.ylabel('Loss', fontsize=12)\n",
    "    plt.grid(True, alpha=0.3)\n",
    "    \n",
    "    if range_x is not None:\n",
    "        plt.xlim(range_x)\n",
    "    \n",
    "    plt.tight_layout()\n",
    "    plt.show()"
   ]
  },
  {
   "cell_type": "markdown",
   "metadata": {
    "id": "fkW1Q6yaICbi"
   },
   "source": [
    "We are ready to implement the training cycle in `train(...)` function."
   ]
  },
  {
   "cell_type": "code",
   "execution_count": null,
   "metadata": {
    "executionInfo": {
     "elapsed": 2,
     "status": "ok",
     "timestamp": 1729721846375,
     "user": {
      "displayName": "Andrei Kotseruba",
      "userId": "01711491631127368765"
     },
     "user_tz": -180
    },
    "id": "dzFv9qp4Kgvh"
   },
   "outputs": [],
   "source": [
    "def train(model, dataloader, optimizer, epochs, device='cuda', draw=True):\n",
    "    \"\"\"\n",
    "    The functioin takes following parameters\n",
    "\n",
    "    :model - CBOW model.\n",
    "    :dataloader - TensorDataloader.\n",
    "    :optiizer - just optimizer.\n",
    "    :epochs - number of cycle iterations.\n",
    "    :device - 'cuda' for GPU, 'cpu' for CPU.\n",
    "    :draw - True if we want to show learning curve.\n",
    "    \n",
    "    \"\"\"\n",
    "    model.to(device)  # move model to chosen divece\n",
    "    model.train()  # set training mode\n",
    "\n",
    "    # calculate how many batches goes through network. Just for visualization\n",
    "    num_training_steps = epochs * len(dataloader)\n",
    "\n",
    "    losses = []  # losses is saved here\n",
    "    i = 0  # draw learning curve after each 10 batches\n",
    "    for e in range(epochs):  # cycle over epochs\n",
    "\n",
    "        for X_batch, y_batch in dataloader:  # cycle over batches\n",
    "\n",
    "            X_batch, y_batch = X_batch.to(device), y_batch.to(device)  # move data to chosen device\n",
    "\n",
    "            model.zero_grad()  # set gradients to zero before calculating them\n",
    "\n",
    "            # You need to execute forward pass and calculate loss.\n",
    "            outputs = model(X_batch)\n",
    "            loss = F.cross_entropy(outputs, y_batch)\n",
    "            losses.append(loss.item())  # save loss\n",
    "\n",
    "            loss.backward()  # calculate gradients (backpropagation)\n",
    "            optimizer.step()  # update weights of a model\n",
    "\n",
    "            if draw and i % 10 == 0: # draw curve\n",
    "                draw_learning_curve(losses, range_x=(0, num_training_steps))\n",
    "\n",
    "            i += 1\n",
    "\n",
    "    model.to('cpu')  # move model back to CPU\n",
    "    model.eval()  # set evaluation mode"
   ]
  },
  {
   "cell_type": "code",
   "execution_count": null,
   "metadata": {
    "colab": {
     "base_uri": "https://localhost:8080/",
     "height": 542
    },
    "executionInfo": {
     "elapsed": 593903,
     "status": "ok",
     "timestamp": 1729722440276,
     "user": {
      "displayName": "Andrei Kotseruba",
      "userId": "01711491631127368765"
     },
     "user_tz": -180
    },
    "id": "HRwtCAKmOK6z",
    "outputId": "e52c2a23-6e12-41b0-cbb7-391f2facf226"
   },
   "outputs": [],
   "source": [
    "%%time\n",
    "\n",
    "# train!\n",
    "train(model, dataloader, optimizer, epochs, device=device)"
   ]
  },
  {
   "cell_type": "code",
   "execution_count": null,
   "metadata": {
    "colab": {
     "base_uri": "https://localhost:8080/"
    },
    "executionInfo": {
     "elapsed": 5,
     "status": "ok",
     "timestamp": 1729722440276,
     "user": {
      "displayName": "Andrei Kotseruba",
      "userId": "01711491631127368765"
     },
     "user_tz": -180
    },
    "id": "_2gl1Y_HXLGj",
    "outputId": "e9fafebd-5249-4460-a2a9-e2e1cde10326"
   },
   "outputs": [],
   "source": [
    "# To get the word embeddings, we only need the embedding layer weights\n",
    "\n",
    "embeddings = model.embedding.weight.detach().numpy()\n",
    "embeddings.shape"
   ]
  },
  {
   "cell_type": "code",
   "execution_count": null,
   "metadata": {
    "colab": {
     "base_uri": "https://localhost:8080/"
    },
    "executionInfo": {
     "elapsed": 4,
     "status": "ok",
     "timestamp": 1729722440276,
     "user": {
      "displayName": "Andrei Kotseruba",
      "userId": "01711491631127368765"
     },
     "user_tz": -180
    },
    "id": "1Vl-8PEpY5i0",
    "outputId": "b3911df9-12ca-4bc1-c399-1cf23139c411"
   },
   "outputs": [],
   "source": [
    "# Create a dictionary with words as keys and embeddings as values\n",
    "\n",
    "# YOUR CODE HERE\n",
    "wv = {word: embeddings[i, :] for word, i in vocab_id.items()}\n",
    "\n",
    "# Look at the embedding vector of word 'peace'\n",
    "wv['peace']"
   ]
  },
  {
   "cell_type": "code",
   "execution_count": null,
   "metadata": {
    "executionInfo": {
     "elapsed": 2,
     "status": "ok",
     "timestamp": 1729722441274,
     "user": {
      "displayName": "Andrei Kotseruba",
      "userId": "01711491631127368765"
     },
     "user_tz": -180
    },
    "id": "stswqtsvcLVo"
   },
   "outputs": [],
   "source": [
    "# Let's clean GPU memory\n",
    "if device == 'cuda':\n",
    "    import gc\n",
    "    model = None\n",
    "    gc.collect()\n",
    "    torch.cuda.empty_cache()"
   ]
  },
  {
   "cell_type": "markdown",
   "metadata": {
    "id": "ufr_BRwDUNWn"
   },
   "source": [
    "How to get text embeddings knowing word embeddings in them? Well, you can, for example, average all the embeddings of words in the text.\n",
    "\n",
    "Implement a function that takes corpus and `wv` dictionary and returns numpy array with embeddings of each document."
   ]
  },
  {
   "cell_type": "code",
   "execution_count": null,
   "metadata": {
    "executionInfo": {
     "elapsed": 2,
     "status": "ok",
     "timestamp": 1729722441274,
     "user": {
      "displayName": "Andrei Kotseruba",
      "userId": "01711491631127368765"
     },
     "user_tz": -180
    },
    "id": "Tae-Tl5vWjrl"
   },
   "outputs": [],
   "source": [
    "def get_docs_embeddings(docs, wv):\n",
    "\n",
    "    docs_embeddings = np.array(\n",
    "        [np.array([wv[word] for word in doc if word in wv.keys()]).mean(axis=0)\n",
    "        for doc in docs]\n",
    "    )\n",
    "\n",
    "    return docs_embeddings"
   ]
  },
  {
   "cell_type": "code",
   "execution_count": null,
   "metadata": {
    "colab": {
     "base_uri": "https://localhost:8080/"
    },
    "executionInfo": {
     "elapsed": 467,
     "status": "ok",
     "timestamp": 1729722441739,
     "user": {
      "displayName": "Andrei Kotseruba",
      "userId": "01711491631127368765"
     },
     "user_tz": -180
    },
    "id": "Csq456Hua9iH",
    "outputId": "f29ca3a3-f209-4a80-ee68-5d319c23e6b7"
   },
   "outputs": [],
   "source": [
    "doc_embeddings = get_docs_embeddings(docs, wv)\n",
    "doc_embeddings.shape"
   ]
  },
  {
   "cell_type": "code",
   "execution_count": null,
   "metadata": {
    "executionInfo": {
     "elapsed": 1,
     "status": "ok",
     "timestamp": 1729722441739,
     "user": {
      "displayName": "Andrei Kotseruba",
      "userId": "01711491631127368765"
     },
     "user_tz": -180
    },
    "id": "_34wkb_Xdgxg"
   },
   "outputs": [],
   "source": [
    "def plot3d(corpus, target, doc_embeddings):\n",
    "    \"\"\"\n",
    "    Draws scatter plot.\n",
    "    \n",
    "    \"\"\"\n",
    "    df = pd.DataFrame(\n",
    "        dict(\n",
    "            corpus=corpus, \n",
    "            target=target, \n",
    "            emb0=doc_embeddings[:, 0], \n",
    "            emb1=doc_embeddings[:, 1], \n",
    "            emb2=doc_embeddings[:, 2]\n",
    "        )\n",
    "    )\n",
    "    df['corpus'] = df['corpus'].apply(lambda x: re.sub('\\n', '<br>', x))\n",
    "    df.head()\n",
    "\n",
    "    fig = px.scatter_3d(\n",
    "        df, \n",
    "        x='emb0', y='emb1', z='emb2', \n",
    "        color='target', \n",
    "        hover_data=['corpus'], \n",
    "        width=1024, height=768, \n",
    "        template='plotly_dark'\n",
    "    )\n",
    "    fig.update_traces(marker=dict(size=6))\n",
    "    fig.show()"
   ]
  },
  {
   "cell_type": "code",
   "execution_count": null,
   "metadata": {
    "colab": {
     "base_uri": "https://localhost:8080/",
     "height": 785,
     "output_embedded_package_id": "1Z049JWWJd5JZfAsDr3SKCNxr5JiAt6e-"
    },
    "executionInfo": {
     "elapsed": 80124,
     "status": "ok",
     "timestamp": 1729722521862,
     "user": {
      "displayName": "Andrei Kotseruba",
      "userId": "01711491631127368765"
     },
     "user_tz": -180
    },
    "id": "G5F5XrLbeDkK",
    "outputId": "71a20183-0535-47cc-8405-6fd8491b6d4c"
   },
   "outputs": [],
   "source": [
    "plot3d(corpus, target, doc_embeddings)"
   ]
  },
  {
   "cell_type": "markdown",
   "metadata": {
    "id": "yTXtAQ7AR283"
   },
   "source": [
    "### 8. Gensim Word2Vec\n",
    "\n",
    "We implemented original CBOW. But actually Word2Vec models are already implemented in gensim library. Their implementation is better and contains modifications that improve the quality of the model.\n",
    "\n",
    "Documentation: https://radimrehurek.com/gensim/models/word2vec.html"
   ]
  },
  {
   "cell_type": "code",
   "execution_count": null,
   "metadata": {
    "executionInfo": {
     "elapsed": 6,
     "status": "ok",
     "timestamp": 1729722521862,
     "user": {
      "displayName": "Andrei Kotseruba",
      "userId": "01711491631127368765"
     },
     "user_tz": -180
    },
    "id": "qr8wRM1QUB_5"
   },
   "outputs": [],
   "source": [
    "from gensim.models import Word2Vec"
   ]
  },
  {
   "cell_type": "code",
   "execution_count": null,
   "metadata": {
    "colab": {
     "base_uri": "https://localhost:8080/"
    },
    "executionInfo": {
     "elapsed": 64046,
     "status": "ok",
     "timestamp": 1729722585902,
     "user": {
      "displayName": "Andrei Kotseruba",
      "userId": "01711491631127368765"
     },
     "user_tz": -180
    },
    "id": "pLFUV49I0AKT",
    "outputId": "25832bae-6557-4e99-a377-1beabe06085a"
   },
   "outputs": [],
   "source": [
    "%%time\n",
    "\n",
    "gensim_model = Word2Vec(docs, workers=2, vector_size=3, window=5, min_count=5, seed=2025)"
   ]
  },
  {
   "cell_type": "code",
   "execution_count": null,
   "metadata": {
    "executionInfo": {
     "elapsed": 149,
     "status": "ok",
     "timestamp": 1729722585902,
     "user": {
      "displayName": "Andrei Kotseruba",
      "userId": "01711491631127368765"
     },
     "user_tz": -180
    },
    "id": "3MoxCTI7hnVg"
   },
   "outputs": [],
   "source": [
    "gensim_wv = {word: gensim_model.wv[word] for word in gensim_model.wv.index_to_key}"
   ]
  },
  {
   "cell_type": "code",
   "execution_count": null,
   "metadata": {
    "colab": {
     "base_uri": "https://localhost:8080/"
    },
    "executionInfo": {
     "elapsed": 149,
     "status": "ok",
     "timestamp": 1729722585902,
     "user": {
      "displayName": "Andrei Kotseruba",
      "userId": "01711491631127368765"
     },
     "user_tz": -180
    },
    "id": "cBqWypQZgBRx",
    "outputId": "5586d764-d257-476e-cf34-77ae6b890079"
   },
   "outputs": [],
   "source": [
    "gensim_embeddings = get_docs_embeddings(docs, gensim_wv)\n",
    "gensim_embeddings.shape"
   ]
  },
  {
   "cell_type": "code",
   "execution_count": null,
   "metadata": {
    "colab": {
     "base_uri": "https://localhost:8080/",
     "height": 785,
     "output_embedded_package_id": "1lnbfkA5tlqAGCHQuU7xO4NwzIW4bV7dH"
    },
    "executionInfo": {
     "elapsed": 146,
     "status": "ok",
     "timestamp": 1729722585902,
     "user": {
      "displayName": "Andrei Kotseruba",
      "userId": "01711491631127368765"
     },
     "user_tz": -180
    },
    "id": "I4PzpCxB8ZWy",
    "outputId": "8fb4fb9e-14e9-4744-c493-7c57c50f0657"
   },
   "outputs": [],
   "source": [
    "plot3d(corpus, target, gensim_embeddings)"
   ]
  },
  {
   "cell_type": "code",
   "execution_count": null,
   "metadata": {
    "executionInfo": {
     "elapsed": 19,
     "status": "ok",
     "timestamp": 1729722585902,
     "user": {
      "displayName": "Andrei Kotseruba",
      "userId": "01711491631127368765"
     },
     "user_tz": -180
    },
    "id": "46kKbHo4vRmO"
   },
   "outputs": [],
   "source": []
  }
 ],
 "metadata": {
  "colab": {
   "provenance": [],
   "toc_visible": true
  },
  "kernelspec": {
   "display_name": "Python 3 (ipykernel)",
   "language": "python",
   "name": "python3"
  },
  "language_info": {
   "codemirror_mode": {
    "name": "ipython",
    "version": 3
   },
   "file_extension": ".py",
   "mimetype": "text/x-python",
   "name": "python",
   "nbconvert_exporter": "python",
   "pygments_lexer": "ipython3",
   "version": "3.12.7"
  },
  "widgets": {
   "application/vnd.jupyter.widget-state+json": {
    "13b3ed4a1f184a58b7d9d0a6664743e7": {
     "model_module": "@jupyter-widgets/controls",
     "model_module_version": "1.5.0",
     "model_name": "DescriptionStyleModel",
     "state": {
      "_model_module": "@jupyter-widgets/controls",
      "_model_module_version": "1.5.0",
      "_model_name": "DescriptionStyleModel",
      "_view_count": null,
      "_view_module": "@jupyter-widgets/base",
      "_view_module_version": "1.2.0",
      "_view_name": "StyleView",
      "description_width": ""
     }
    },
    "1b98b1b5ccf84b7a8799541035522bee": {
     "model_module": "@jupyter-widgets/base",
     "model_module_version": "1.2.0",
     "model_name": "LayoutModel",
     "state": {
      "_model_module": "@jupyter-widgets/base",
      "_model_module_version": "1.2.0",
      "_model_name": "LayoutModel",
      "_view_count": null,
      "_view_module": "@jupyter-widgets/base",
      "_view_module_version": "1.2.0",
      "_view_name": "LayoutView",
      "align_content": null,
      "align_items": null,
      "align_self": null,
      "border": null,
      "bottom": null,
      "display": null,
      "flex": null,
      "flex_flow": null,
      "grid_area": null,
      "grid_auto_columns": null,
      "grid_auto_flow": null,
      "grid_auto_rows": null,
      "grid_column": null,
      "grid_gap": null,
      "grid_row": null,
      "grid_template_areas": null,
      "grid_template_columns": null,
      "grid_template_rows": null,
      "height": null,
      "justify_content": null,
      "justify_items": null,
      "left": null,
      "margin": null,
      "max_height": null,
      "max_width": null,
      "min_height": null,
      "min_width": null,
      "object_fit": null,
      "object_position": null,
      "order": null,
      "overflow": null,
      "overflow_x": null,
      "overflow_y": null,
      "padding": null,
      "right": null,
      "top": null,
      "visibility": null,
      "width": null
     }
    },
    "35f5f871aef44e1fb5ef3f432a8e3d6a": {
     "model_module": "@jupyter-widgets/base",
     "model_module_version": "1.2.0",
     "model_name": "LayoutModel",
     "state": {
      "_model_module": "@jupyter-widgets/base",
      "_model_module_version": "1.2.0",
      "_model_name": "LayoutModel",
      "_view_count": null,
      "_view_module": "@jupyter-widgets/base",
      "_view_module_version": "1.2.0",
      "_view_name": "LayoutView",
      "align_content": null,
      "align_items": null,
      "align_self": null,
      "border": null,
      "bottom": null,
      "display": null,
      "flex": null,
      "flex_flow": null,
      "grid_area": null,
      "grid_auto_columns": null,
      "grid_auto_flow": null,
      "grid_auto_rows": null,
      "grid_column": null,
      "grid_gap": null,
      "grid_row": null,
      "grid_template_areas": null,
      "grid_template_columns": null,
      "grid_template_rows": null,
      "height": null,
      "justify_content": null,
      "justify_items": null,
      "left": null,
      "margin": null,
      "max_height": null,
      "max_width": null,
      "min_height": null,
      "min_width": null,
      "object_fit": null,
      "object_position": null,
      "order": null,
      "overflow": null,
      "overflow_x": null,
      "overflow_y": null,
      "padding": null,
      "right": null,
      "top": null,
      "visibility": null,
      "width": null
     }
    },
    "54fe936651324124a7ef0aa0541b4e66": {
     "model_module": "@jupyter-widgets/controls",
     "model_module_version": "1.5.0",
     "model_name": "HTMLModel",
     "state": {
      "_dom_classes": [],
      "_model_module": "@jupyter-widgets/controls",
      "_model_module_version": "1.5.0",
      "_model_name": "HTMLModel",
      "_view_count": null,
      "_view_module": "@jupyter-widgets/controls",
      "_view_module_version": "1.5.0",
      "_view_name": "HTMLView",
      "description": "",
      "description_tooltip": null,
      "layout": "IPY_MODEL_1b98b1b5ccf84b7a8799541035522bee",
      "placeholder": "​",
      "style": "IPY_MODEL_13b3ed4a1f184a58b7d9d0a6664743e7",
      "value": " 11314/11314 [06:05&lt;00:00, 58.43it/s]"
     }
    },
    "55b687954ea9440286438d4dd76f2315": {
     "model_module": "@jupyter-widgets/controls",
     "model_module_version": "1.5.0",
     "model_name": "DescriptionStyleModel",
     "state": {
      "_model_module": "@jupyter-widgets/controls",
      "_model_module_version": "1.5.0",
      "_model_name": "DescriptionStyleModel",
      "_view_count": null,
      "_view_module": "@jupyter-widgets/base",
      "_view_module_version": "1.2.0",
      "_view_name": "StyleView",
      "description_width": ""
     }
    },
    "5b386d7976c444e193c6e6c8a4141c2a": {
     "model_module": "@jupyter-widgets/base",
     "model_module_version": "1.2.0",
     "model_name": "LayoutModel",
     "state": {
      "_model_module": "@jupyter-widgets/base",
      "_model_module_version": "1.2.0",
      "_model_name": "LayoutModel",
      "_view_count": null,
      "_view_module": "@jupyter-widgets/base",
      "_view_module_version": "1.2.0",
      "_view_name": "LayoutView",
      "align_content": null,
      "align_items": null,
      "align_self": null,
      "border": null,
      "bottom": null,
      "display": null,
      "flex": null,
      "flex_flow": null,
      "grid_area": null,
      "grid_auto_columns": null,
      "grid_auto_flow": null,
      "grid_auto_rows": null,
      "grid_column": null,
      "grid_gap": null,
      "grid_row": null,
      "grid_template_areas": null,
      "grid_template_columns": null,
      "grid_template_rows": null,
      "height": null,
      "justify_content": null,
      "justify_items": null,
      "left": null,
      "margin": null,
      "max_height": null,
      "max_width": null,
      "min_height": null,
      "min_width": null,
      "object_fit": null,
      "object_position": null,
      "order": null,
      "overflow": null,
      "overflow_x": null,
      "overflow_y": null,
      "padding": null,
      "right": null,
      "top": null,
      "visibility": null,
      "width": null
     }
    },
    "8c3ad92a2c844bf185898fbf857064a4": {
     "model_module": "@jupyter-widgets/controls",
     "model_module_version": "1.5.0",
     "model_name": "HBoxModel",
     "state": {
      "_dom_classes": [],
      "_model_module": "@jupyter-widgets/controls",
      "_model_module_version": "1.5.0",
      "_model_name": "HBoxModel",
      "_view_count": null,
      "_view_module": "@jupyter-widgets/controls",
      "_view_module_version": "1.5.0",
      "_view_name": "HBoxView",
      "box_style": "",
      "children": [
       "IPY_MODEL_a52a993f50fa4cfc9fd77877e0351da5",
       "IPY_MODEL_bc9962a30096460d9a026a7b789747cb",
       "IPY_MODEL_54fe936651324124a7ef0aa0541b4e66"
      ],
      "layout": "IPY_MODEL_5b386d7976c444e193c6e6c8a4141c2a"
     }
    },
    "a52a993f50fa4cfc9fd77877e0351da5": {
     "model_module": "@jupyter-widgets/controls",
     "model_module_version": "1.5.0",
     "model_name": "HTMLModel",
     "state": {
      "_dom_classes": [],
      "_model_module": "@jupyter-widgets/controls",
      "_model_module_version": "1.5.0",
      "_model_name": "HTMLModel",
      "_view_count": null,
      "_view_module": "@jupyter-widgets/controls",
      "_view_module_version": "1.5.0",
      "_view_name": "HTMLView",
      "description": "",
      "description_tooltip": null,
      "layout": "IPY_MODEL_35f5f871aef44e1fb5ef3f432a8e3d6a",
      "placeholder": "​",
      "style": "IPY_MODEL_55b687954ea9440286438d4dd76f2315",
      "value": "100%"
     }
    },
    "b767b3e55b22437babc3895d18bf9315": {
     "model_module": "@jupyter-widgets/controls",
     "model_module_version": "1.5.0",
     "model_name": "ProgressStyleModel",
     "state": {
      "_model_module": "@jupyter-widgets/controls",
      "_model_module_version": "1.5.0",
      "_model_name": "ProgressStyleModel",
      "_view_count": null,
      "_view_module": "@jupyter-widgets/base",
      "_view_module_version": "1.2.0",
      "_view_name": "StyleView",
      "bar_color": null,
      "description_width": ""
     }
    },
    "bc9962a30096460d9a026a7b789747cb": {
     "model_module": "@jupyter-widgets/controls",
     "model_module_version": "1.5.0",
     "model_name": "FloatProgressModel",
     "state": {
      "_dom_classes": [],
      "_model_module": "@jupyter-widgets/controls",
      "_model_module_version": "1.5.0",
      "_model_name": "FloatProgressModel",
      "_view_count": null,
      "_view_module": "@jupyter-widgets/controls",
      "_view_module_version": "1.5.0",
      "_view_name": "ProgressView",
      "bar_style": "success",
      "description": "",
      "description_tooltip": null,
      "layout": "IPY_MODEL_d2c3cd5229434f21bb3084f7a190cb0a",
      "max": 11314,
      "min": 0,
      "orientation": "horizontal",
      "style": "IPY_MODEL_b767b3e55b22437babc3895d18bf9315",
      "value": 11314
     }
    },
    "d2c3cd5229434f21bb3084f7a190cb0a": {
     "model_module": "@jupyter-widgets/base",
     "model_module_version": "1.2.0",
     "model_name": "LayoutModel",
     "state": {
      "_model_module": "@jupyter-widgets/base",
      "_model_module_version": "1.2.0",
      "_model_name": "LayoutModel",
      "_view_count": null,
      "_view_module": "@jupyter-widgets/base",
      "_view_module_version": "1.2.0",
      "_view_name": "LayoutView",
      "align_content": null,
      "align_items": null,
      "align_self": null,
      "border": null,
      "bottom": null,
      "display": null,
      "flex": null,
      "flex_flow": null,
      "grid_area": null,
      "grid_auto_columns": null,
      "grid_auto_flow": null,
      "grid_auto_rows": null,
      "grid_column": null,
      "grid_gap": null,
      "grid_row": null,
      "grid_template_areas": null,
      "grid_template_columns": null,
      "grid_template_rows": null,
      "height": null,
      "justify_content": null,
      "justify_items": null,
      "left": null,
      "margin": null,
      "max_height": null,
      "max_width": null,
      "min_height": null,
      "min_width": null,
      "object_fit": null,
      "object_position": null,
      "order": null,
      "overflow": null,
      "overflow_x": null,
      "overflow_y": null,
      "padding": null,
      "right": null,
      "top": null,
      "visibility": null,
      "width": null
     }
    }
   }
  }
 },
 "nbformat": 4,
 "nbformat_minor": 4
}
