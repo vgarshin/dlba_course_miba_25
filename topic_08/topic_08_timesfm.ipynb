{
 "cells": [
  {
   "cell_type": "markdown",
   "id": "61cc959d-7d1f-4fe8-8134-c837bad82185",
   "metadata": {
    "tags": []
   },
   "source": [
    "# Deep Learning for Business Applications course"
   ]
  },
  {
   "cell_type": "markdown",
   "id": "8730658f-e7d2-4bc2-a87b-b4fe7712cc46",
   "metadata": {
    "tags": []
   },
   "source": [
    "## TOPIC 8: More Tasks for Deep Learning. Time-series prediction with TimesFM"
   ]
  },
  {
   "cell_type": "markdown",
   "id": "fe8736f9-8fae-4abf-b252-efb217aa161b",
   "metadata": {},
   "source": [
    "### 1. Libraries and parameters"
   ]
  },
  {
   "cell_type": "code",
   "execution_count": null,
   "id": "f1c52acf-497f-4959-b23f-c526533d5764",
   "metadata": {},
   "outputs": [],
   "source": [
    "!pip install statsforecast\n",
    "!git clone https://github.com/google-research/timesfm.git\n",
    "!cd timesfm && pip install -e .[torch]"
   ]
  },
  {
   "cell_type": "code",
   "execution_count": null,
   "id": "dc0ab132-9c7d-4494-92c4-da85f611034e",
   "metadata": {
    "tags": []
   },
   "outputs": [],
   "source": [
    "import os\n",
    "import torch\n",
    "import timesfm\n",
    "import numpy as np\n",
    "import pandas as pd\n",
    "import matplotlib.pyplot as plt\n",
    "from statsmodels.tsa.seasonal import seasonal_decompose\n",
    "from statsforecast import StatsForecast\n",
    "from statsforecast.models import AutoARIMA, AutoETS\n",
    "\n",
    "DEVICE = 'cpu'\n",
    "torch.set_float32_matmul_precision('high')"
   ]
  },
  {
   "cell_type": "markdown",
   "id": "1afe0034-cd3f-440a-a135-057d1a8b13c7",
   "metadata": {},
   "source": [
    "### 2. Dataset"
   ]
  },
  {
   "cell_type": "code",
   "execution_count": null,
   "id": "9fce5d32-e2df-4d99-8ef4-ebd30a1dab23",
   "metadata": {
    "tags": []
   },
   "outputs": [],
   "source": [
    "# dataset is related to world gold prices\n",
    "\n",
    "DATA_PATH = '~/__DATA/DLBA_F25/topic_08'\n",
    "file_name = 'gold_prices_1979-2021.csv'\n",
    "file_path = f'{DATA_PATH}/{file_name}'"
   ]
  },
  {
   "cell_type": "code",
   "execution_count": null,
   "id": "5f82dcac-8b2b-4221-9360-b7fb45b28697",
   "metadata": {
    "tags": []
   },
   "outputs": [],
   "source": [
    "df = pd.read_csv(file_path)\n",
    "df['Date'] = pd.to_datetime(df['Date'])\n",
    "df = df.set_index('Date').resample('MS').mean()\n",
    "display(df.head())"
   ]
  },
  {
   "cell_type": "code",
   "execution_count": null,
   "id": "9c84a01b-1bcc-4c10-9fcc-2c68d49dac25",
   "metadata": {
    "tags": []
   },
   "outputs": [],
   "source": [
    "df.columns"
   ]
  },
  {
   "cell_type": "markdown",
   "id": "0fabaf5e-0e60-48eb-a305-b17cd11a8c30",
   "metadata": {},
   "source": [
    "### 3. EDA"
   ]
  },
  {
   "cell_type": "code",
   "execution_count": null,
   "id": "2be4b436-8298-4b8f-bc53-2fb3dcec9430",
   "metadata": {
    "tags": []
   },
   "outputs": [],
   "source": [
    "TARGET = 'United Arab Emirates(AED)'"
   ]
  },
  {
   "cell_type": "code",
   "execution_count": null,
   "id": "7431f0b2-671f-4079-9da6-32cddfd4bd8d",
   "metadata": {
    "tags": []
   },
   "outputs": [],
   "source": [
    "result = seasonal_decompose(df[TARGET])\n",
    "\n",
    "fig, (ax1, ax2, ax3, ax4) = plt.subplots(4, 1, figsize=(10, 12))\n",
    "ax1.set_title(f'Monthly gold prices in {TARGET}')\n",
    "result.observed.plot(ax=ax1, color='green')\n",
    "ax1.set_ylabel('Observed')\n",
    "result.trend.plot(ax=ax2, color='green')\n",
    "ax2.set_ylabel('Trend')\n",
    "result.seasonal.plot(ax=ax3, color='green')\n",
    "ax3.set_ylabel('Seasonal')\n",
    "result.resid.plot(ax=ax4, color='green')\n",
    "ax4.set_ylabel('Residual')\n",
    "plt.tight_layout()\n",
    "plt.show()"
   ]
  },
  {
   "cell_type": "markdown",
   "id": "3ca788bd-26c6-4a15-aeeb-588a3a85130a",
   "metadata": {},
   "source": [
    "### 4. Train-test split"
   ]
  },
  {
   "cell_type": "code",
   "execution_count": null,
   "id": "6c885945-1874-47f6-a864-eb0eb3ec6f99",
   "metadata": {
    "tags": []
   },
   "outputs": [],
   "source": [
    "df = pd.DataFrame({\n",
    "    'unique_id': [1] * len(df),\n",
    "    'ds': df.index,\n",
    "    'price': df[TARGET]\n",
    "})\n",
    "display(df.head())"
   ]
  },
  {
   "cell_type": "code",
   "execution_count": null,
   "id": "941a7485-9123-4813-b377-5c9429e9a848",
   "metadata": {
    "tags": []
   },
   "outputs": [],
   "source": [
    "cut_date = '2019-07-01'\n",
    "df_train = df[df['ds'] <= cut_date]\n",
    "df_test = df[df['ds'] > cut_date]"
   ]
  },
  {
   "cell_type": "code",
   "execution_count": null,
   "id": "5b6b1a31-b95e-46a6-97c4-870ad2bbbf9c",
   "metadata": {
    "tags": []
   },
   "outputs": [],
   "source": [
    "df_train.shape"
   ]
  },
  {
   "cell_type": "code",
   "execution_count": null,
   "id": "4a2a34d1-c60b-4e76-89b6-7005e64dbaed",
   "metadata": {},
   "outputs": [],
   "source": [
    "df_train.tail()"
   ]
  },
  {
   "cell_type": "code",
   "execution_count": null,
   "id": "c515741f-a5fd-4828-bb29-3206f2f11efb",
   "metadata": {
    "tags": []
   },
   "outputs": [],
   "source": [
    "df_test.shape"
   ]
  },
  {
   "cell_type": "code",
   "execution_count": null,
   "id": "4af38220-20b1-4fba-998d-49aa8145ec0e",
   "metadata": {},
   "outputs": [],
   "source": [
    "df_test.head()"
   ]
  },
  {
   "cell_type": "markdown",
   "id": "e8a14510-7edd-413c-be67-e08d15c9bcc6",
   "metadata": {},
   "source": [
    "### 5. Training TimesFM"
   ]
  },
  {
   "cell_type": "code",
   "execution_count": null,
   "id": "2b9e3d98-f432-49cf-8daa-7d80e1262ac3",
   "metadata": {},
   "outputs": [],
   "source": [
    "# initialize the TimesFM model\n",
    "# and load the pretrained model checkpoint\n",
    "\n",
    "model_name = 'google/timesfm-2.5-200m-pytorch'\n",
    "model = timesfm.TimesFM_2p5_200M_torch.from_pretrained(model_name)"
   ]
  },
  {
   "cell_type": "code",
   "execution_count": null,
   "id": "7bf684f3-3a0c-4998-b45a-3f83c4582a22",
   "metadata": {},
   "outputs": [],
   "source": [
    "model.compile(\n",
    "    timesfm.ForecastConfig(\n",
    "        max_context=512,  # length of the context window for the model\n",
    "        max_horizon=256,  # forecasting horizon length\n",
    "        normalize_inputs=True,\n",
    "        use_continuous_quantile_head=True,\n",
    "        force_flip_invariance=True,\n",
    "        infer_is_positive=True,\n",
    "        fix_quantile_crossing=True,\n",
    "    )\n",
    ")"
   ]
  },
  {
   "cell_type": "code",
   "execution_count": null,
   "id": "b2ebaed0-c6ac-4c06-b1cb-a58f77462b3b",
   "metadata": {},
   "outputs": [],
   "source": [
    "point_forecast, quantile_forecast = model.forecast(\n",
    "    horizon=24,\n",
    "    inputs=[df_train.price]\n",
    ")"
   ]
  },
  {
   "cell_type": "markdown",
   "id": "9ca320c7-a8ff-4c5b-8918-9f2d0dea8c51",
   "metadata": {
    "tags": []
   },
   "source": [
    "### 6. Training statistical models"
   ]
  },
  {
   "cell_type": "code",
   "execution_count": null,
   "id": "109bb988-37ac-48e7-98b5-d495cd72d1ad",
   "metadata": {
    "tags": []
   },
   "outputs": [],
   "source": [
    "# let's use two classical models to compare with TimeFS\n",
    "# AutoARIMA model with annual seasonality for monthly data\n",
    "autoarima = AutoARIMA(season_length=12)\n",
    "\n",
    "# AutoETS model\n",
    "# with annual seasonality for monthly data\n",
    "autoets = AutoETS(season_length=12)"
   ]
  },
  {
   "cell_type": "code",
   "execution_count": null,
   "id": "cc3dd00f-81da-4e2b-ba2a-baaea8a1cb9e",
   "metadata": {
    "tags": []
   },
   "outputs": [],
   "source": [
    "# create StatsForecast object with models\n",
    "statforecast = StatsForecast(\n",
    "    models=[autoarima, autoets],\n",
    "    freq='MS',\n",
    "    n_jobs=-1\n",
    ")\n",
    "\n",
    "# Fit the models\n",
    "statforecast.fit(df=df_train, target_col='price')\n",
    "\n",
    "# generate forecasts\n",
    "# with horizon forecast is for 24 periods\n",
    "forecasts = statforecast.predict(h=24)"
   ]
  },
  {
   "cell_type": "code",
   "execution_count": null,
   "id": "99683ca1-405c-48f6-9ecf-fd98e204ce66",
   "metadata": {},
   "outputs": [],
   "source": [
    "forecasts.head()"
   ]
  },
  {
   "cell_type": "markdown",
   "id": "58309ab4-59ab-46d7-9d8f-378e77a51179",
   "metadata": {},
   "source": [
    "### 7. Compare results"
   ]
  },
  {
   "cell_type": "code",
   "execution_count": null,
   "id": "67e6b661-c6c5-49db-93b3-15d61aa19b1c",
   "metadata": {},
   "outputs": [],
   "source": [
    "forecasts['timesfm'] = point_forecast[0, :]\n",
    "forecasts.head()"
   ]
  },
  {
   "cell_type": "code",
   "execution_count": null,
   "id": "491a9757-f2e3-4926-b65b-fd7420f2f179",
   "metadata": {
    "tags": []
   },
   "outputs": [],
   "source": [
    "forecasts = pd.merge(forecasts, df_test, on='ds')"
   ]
  },
  {
   "cell_type": "code",
   "execution_count": null,
   "id": "6b87a7c8-75ff-402e-98b0-59e35da2bab7",
   "metadata": {},
   "outputs": [],
   "source": [
    "forecasts.head()"
   ]
  },
  {
   "cell_type": "code",
   "execution_count": null,
   "id": "85441489-22df-4088-9bf3-f92aa8f4739e",
   "metadata": {
    "tags": []
   },
   "outputs": [],
   "source": [
    "def error_metrics(y, y_pred):\n",
    "    \"\"\"\n",
    "    Calculates MAE, RMSE, MAPE metrics.\n",
    "\n",
    "    \"\"\"\n",
    "    y = np.array(y)\n",
    "    y_pred = np.array(y_pred)\n",
    "    metrics = {\n",
    "        'MAE': np.mean(np.abs(y - y_pred)),\n",
    "        'RMSE': np.sqrt(np.mean((y - y_pred) ** 2)),\n",
    "        'MAPE': np.mean(np.abs((y - y_pred) / y)) * 100\n",
    "    }\n",
    "    return metrics"
   ]
  },
  {
   "cell_type": "code",
   "execution_count": null,
   "id": "9bc2b44a-1755-463f-bbe1-afd64a46f921",
   "metadata": {
    "tags": []
   },
   "outputs": [],
   "source": [
    "models = ['timesfm', 'AutoARIMA', 'AutoETS']\n",
    "err_metrics = []\n",
    "for col in models:\n",
    "    y_pred = forecasts[col]\n",
    "    tmp_dict = error_metrics(\n",
    "        y=forecasts['price'],\n",
    "        y_pred=forecasts[col]\n",
    "    )\n",
    "    tmp_dict['model'] = col\n",
    "    err_metrics.append(tmp_dict)"
   ]
  },
  {
   "cell_type": "code",
   "execution_count": null,
   "id": "879440f6-b1c8-4eb9-9186-ec35a5be4ed5",
   "metadata": {
    "tags": []
   },
   "outputs": [],
   "source": [
    "pd.DataFrame(err_metrics)"
   ]
  },
  {
   "cell_type": "code",
   "execution_count": null,
   "id": "25c64743-950e-486f-8790-06d8dd178290",
   "metadata": {},
   "outputs": [],
   "source": []
  }
 ],
 "metadata": {
  "kernelspec": {
   "display_name": "Python 3 (ipykernel)",
   "language": "python",
   "name": "python3"
  },
  "language_info": {
   "codemirror_mode": {
    "name": "ipython",
    "version": 3
   },
   "file_extension": ".py",
   "mimetype": "text/x-python",
   "name": "python",
   "nbconvert_exporter": "python",
   "pygments_lexer": "ipython3",
   "version": "3.12.7"
  },
  "widgets": {
   "application/vnd.jupyter.widget-state+json": {
    "state": {
     "203f433001684112938f9af700151a99": {
      "model_module": "@jupyter-widgets/base",
      "model_module_version": "2.0.0",
      "model_name": "LayoutModel",
      "state": {}
     },
     "45904102144547b9a185763c5f769936": {
      "model_module": "@jupyter-widgets/controls",
      "model_module_version": "2.0.0",
      "model_name": "ProgressStyleModel",
      "state": {
       "description_width": ""
      }
     },
     "49e6e244049a4e50bc7cf80c39ff0623": {
      "model_module": "@jupyter-widgets/base",
      "model_module_version": "2.0.0",
      "model_name": "LayoutModel",
      "state": {}
     },
     "53f657b473b64c72af08a8e1f70fc440": {
      "model_module": "@jupyter-widgets/controls",
      "model_module_version": "2.0.0",
      "model_name": "FloatProgressModel",
      "state": {
       "bar_style": "success",
       "layout": "IPY_MODEL_f2599a8a89634d4ea81c62164c60a6e0",
       "max": 5,
       "style": "IPY_MODEL_45904102144547b9a185763c5f769936",
       "value": 5
      }
     },
     "5f9f56576dbd486480177d8dc9da127c": {
      "model_module": "@jupyter-widgets/controls",
      "model_module_version": "2.0.0",
      "model_name": "HTMLModel",
      "state": {
       "layout": "IPY_MODEL_fad29601924d4b889fa7e53174d227a5",
       "style": "IPY_MODEL_7c751bc8ed244ce8a14602a930cd1d42",
       "value": " 5/5 [00:00&lt;00:00, 618.63it/s]"
      }
     },
     "61b7f6ff42934456bbcdf566ecd65028": {
      "model_module": "@jupyter-widgets/controls",
      "model_module_version": "2.0.0",
      "model_name": "HBoxModel",
      "state": {
       "children": [
        "IPY_MODEL_65dc57a2afc547a18fcdcc43b0393d4f",
        "IPY_MODEL_53f657b473b64c72af08a8e1f70fc440",
        "IPY_MODEL_5f9f56576dbd486480177d8dc9da127c"
       ],
       "layout": "IPY_MODEL_49e6e244049a4e50bc7cf80c39ff0623"
      }
     },
     "65dc57a2afc547a18fcdcc43b0393d4f": {
      "model_module": "@jupyter-widgets/controls",
      "model_module_version": "2.0.0",
      "model_name": "HTMLModel",
      "state": {
       "layout": "IPY_MODEL_203f433001684112938f9af700151a99",
       "style": "IPY_MODEL_84573576514a49df8faec6d23e6f3b2c",
       "value": "Fetching 5 files: 100%"
      }
     },
     "7c751bc8ed244ce8a14602a930cd1d42": {
      "model_module": "@jupyter-widgets/controls",
      "model_module_version": "2.0.0",
      "model_name": "HTMLStyleModel",
      "state": {
       "description_width": "",
       "font_size": null,
       "text_color": null
      }
     },
     "84573576514a49df8faec6d23e6f3b2c": {
      "model_module": "@jupyter-widgets/controls",
      "model_module_version": "2.0.0",
      "model_name": "HTMLStyleModel",
      "state": {
       "description_width": "",
       "font_size": null,
       "text_color": null
      }
     },
     "f2599a8a89634d4ea81c62164c60a6e0": {
      "model_module": "@jupyter-widgets/base",
      "model_module_version": "2.0.0",
      "model_name": "LayoutModel",
      "state": {}
     },
     "fad29601924d4b889fa7e53174d227a5": {
      "model_module": "@jupyter-widgets/base",
      "model_module_version": "2.0.0",
      "model_name": "LayoutModel",
      "state": {}
     }
    },
    "version_major": 2,
    "version_minor": 0
   }
  }
 },
 "nbformat": 4,
 "nbformat_minor": 5
}
